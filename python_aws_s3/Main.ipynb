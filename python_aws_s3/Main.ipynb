{
 "cells": [
  {
   "cell_type": "code",
   "execution_count": 7,
   "id": "3a21876d-dce9-4961-b831-207eb3205e30",
   "metadata": {},
   "outputs": [
    {
     "name": "stderr",
     "output_type": "stream",
     "text": [
      "<>:12: SyntaxWarning: invalid escape sequence '\\m'\n",
      "<>:13: SyntaxWarning: invalid escape sequence '\\m'\n",
      "<>:12: SyntaxWarning: invalid escape sequence '\\m'\n",
      "<>:13: SyntaxWarning: invalid escape sequence '\\m'\n",
      "C:\\Users\\me_admin\\AppData\\Local\\Temp\\ipykernel_10652\\50628601.py:12: SyntaxWarning: invalid escape sequence '\\m'\n",
      "  DIR = \"C:\\\\Users\\me_admin\\Desktop\\GIT\\AWS-S3\\python_aws_s3\"\n",
      "C:\\Users\\me_admin\\AppData\\Local\\Temp\\ipykernel_10652\\50628601.py:13: SyntaxWarning: invalid escape sequence '\\m'\n",
      "  DOWN_DIR = \"C:\\\\Users\\me_admin\\Desktop\\GIT\\AWS-S3\\python_aws_s3\\s3alt\"\n"
     ]
    }
   ],
   "source": [
    "#python script for working with amazon s3\n",
    "import os\n",
    "import boto3\n",
    "\n",
    "ACCESS_KEY = 'AWS_ACCESS_KEY_ID'\n",
    "SECRET_KEY = 'AWS_SECRET_ACCESS_KEY'\n",
    "PRI_BUCKET_NAME = 'fclil'\n",
    "TRANSIENT_BUCKET_NAME = 'fclil2'\n",
    "F1 = \"lil1.txt\"\n",
    "F2 = \"lil2.txt\"\n",
    "F3 = \"lil3.txt\"\n",
    "DIR = \"C:\\\\Users\\me_admin\\Desktop\\GIT\\AWS-S3\\python_aws_s3\"\n",
    "# Users/me_admin/Desktop/GIT/AWS-S3/python_aws_s3\n",
    "DOWN_DIR = \"C:\\\\Users\\me_admin\\Desktop\\GIT\\AWS-S3\\python_aws_s3\\s3alt\"\n",
    "\n",
    "def main():\n",
    "    #entry point\n",
    "    # print(\"Hello World\")\n",
    "    access = os.getenv(ACCESS_KEY)\n",
    "    secret = os.getenv(SECRET_KEY)\n",
    "    s3 = boto3.resource('s3',aws_access_key_id=access,aws_secret_access_key=secret)\n",
    "    create_bucket(TRANSIENT_BUCKET_NAME,s3)\n",
    "    \n",
    "def create_bucket(name,s3):\n",
    "    try:\n",
    "        bucket = s3.create_bucket(Bucket=name)\n",
    "    except ClientError as ce:\n",
    "        print('error',ce)\n",
    "        \n",
    "if __name__ == \"__main__\":\n",
    "    main()"
   ]
  }
 ],
 "metadata": {
  "kernelspec": {
   "display_name": "Python 3 (ipykernel)",
   "language": "python",
   "name": "python3"
  },
  "language_info": {
   "codemirror_mode": {
    "name": "ipython",
    "version": 3
   },
   "file_extension": ".py",
   "mimetype": "text/x-python",
   "name": "python",
   "nbconvert_exporter": "python",
   "pygments_lexer": "ipython3",
   "version": "3.12.1"
  }
 },
 "nbformat": 4,
 "nbformat_minor": 5
}
